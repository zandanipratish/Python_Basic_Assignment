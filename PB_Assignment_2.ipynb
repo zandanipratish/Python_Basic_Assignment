{
 "cells": [
  {
   "cell_type": "raw",
   "id": "113fa2da",
   "metadata": {},
   "source": [
    "1.What are the two values of the Boolean data type? How do you write them?\n",
    "Ans : True & False"
   ]
  },
  {
   "cell_type": "raw",
   "id": "c6841779",
   "metadata": {},
   "source": [
    "2. What are the three different types of Boolean operators?\n",
    "Ans : AND , OR , NOT"
   ]
  },
  {
   "cell_type": "raw",
   "id": "0dc5cffb",
   "metadata": {},
   "source": [
    "3. Make a list of each Boolean operator's truth tables (i.e. every possible combination of Boolean values for the operator and what it evaluate ).\n",
    "Ans :\n",
    "    AND\n",
    "        True And True is True\n",
    "        True And False is False\n",
    "        False And True is False\n",
    "        False And False is False\n",
    "        \n",
    "    OR\n",
    "        True OR True is True\n",
    "        True OR False is True\n",
    "        False OR True is True\n",
    "        False OR False is False \n",
    "        \n",
    "    NOT\n",
    "        NOT True is False\n",
    "        NOT False is True"
   ]
  },
  {
   "cell_type": "raw",
   "id": "97aef1de",
   "metadata": {},
   "source": [
    "4. What are the values of the following expressions?\n",
    "(5 > 4) and (3 == 5)\n",
    "not (5 > 4)\n",
    "(5 > 4) or (3 == 5)\n",
    "not ((5 > 4) or (3 == 5))\n",
    "(True and True) and (True == False)\n",
    "(not False) or (not True)\n",
    "\n",
    "Ans :\n",
    "(5 > 4) and (3 == 5) is False\n",
    "not (5 > 4) is False\n",
    "(5 > 4) or (3 == 5) is True\n",
    "not ((5 > 4) or (3 == 5)) is False\n",
    "(True and True) and (True == False) is False\n",
    "(not False) or (not True) is True\n"
   ]
  },
  {
   "cell_type": "raw",
   "id": "5ddeb738",
   "metadata": {},
   "source": [
    "5. What are the six comparison operators?\n",
    "Ans:\n",
    "    Less than (<)\n",
    "    Less than or equal to (<=)\n",
    "    Greater than (>)\n",
    "    Greater than or equal to (>=)\n",
    "    Equal to (==)\n",
    "    Not equal to (!=)"
   ]
  },
  {
   "cell_type": "raw",
   "id": "cacd2ef7",
   "metadata": {},
   "source": [
    "6. How do you tell the difference between the equal to and assignment operators?Describe a condition and when you would use one.\n",
    "Ans : Assignment operator is described with single equal to (=) sign whereas Equal to operator is described as double equal to (==) sign. Assignment operator is used to assign a value to a variable whereas equal to operator is used to evaluate a condition to True or False."
   ]
  },
  {
   "cell_type": "raw",
   "id": "05c0e39f",
   "metadata": {},
   "source": [
    "7. Identify the three blocks in this code:\n",
    "spam = 0\n",
    "if spam == 10:\n",
    "print('eggs')\n",
    "if spam > 5:\n",
    "print('bacon')\n",
    "else:\n",
    "print('ham')\n",
    "print('spam')\n",
    "print('spam')\n",
    "\n",
    "Ans :\n",
    "spam = 0\n",
    "if spam == 10:\n",
    "    print('eggs')\n",
    "if spam > 5:\n",
    "    print('bacon')\n",
    "else:\n",
    "    print('ham')\n",
    "    print('spam')\n",
    "    print('spam')"
   ]
  },
  {
   "cell_type": "raw",
   "id": "0c4c4139",
   "metadata": {},
   "source": [
    "8. Write code that prints Hello if 1 is stored in spam, prints Howdy if 2 is stored in spam, and prints Greetings! if anything else is stored in spam.\n",
    "Ans :"
   ]
  },
  {
   "cell_type": "code",
   "execution_count": 8,
   "id": "9eaf57d3",
   "metadata": {},
   "outputs": [
    {
     "name": "stdout",
     "output_type": "stream",
     "text": [
      "Enter value for spam : 2\n",
      "Howdy\n"
     ]
    }
   ],
   "source": [
    "spam = int(input(\"Enter value for spam : \"))\n",
    "if spam == 1:\n",
    "    print(\"Hello\")\n",
    "elif spam == 2:\n",
    "    print (\"Howdy\")\n",
    "else:\n",
    "    print(\"Greetings!\")"
   ]
  },
  {
   "cell_type": "raw",
   "id": "dd46f41a",
   "metadata": {},
   "source": [
    "9.If your programme is stuck in an endless loop, what keys you’ll press?\n",
    "Ans : Esc + i i  (To interrupt kernel to running)"
   ]
  },
  {
   "cell_type": "raw",
   "id": "7acf971c",
   "metadata": {},
   "source": [
    "10. How can you tell the difference between break and continue?\n",
    "Ans: Break statement stop the loop whereas continue statment just skip the iteration in a loop."
   ]
  },
  {
   "cell_type": "raw",
   "id": "67131599",
   "metadata": {},
   "source": [
    "11. In a for loop, what is the difference between range(10), range(0, 10), and range(0, 10, 1)?\n",
    "Ans: All three are same."
   ]
  },
  {
   "cell_type": "raw",
   "id": "ac8bfb8d",
   "metadata": {},
   "source": [
    "12. Write a short program that prints the numbers 1 to 10 using a for loop. Then write an equivalent program that prints the numbers 1 to 10 using a while loop."
   ]
  },
  {
   "cell_type": "code",
   "execution_count": 9,
   "id": "f1d1783e",
   "metadata": {},
   "outputs": [
    {
     "name": "stdout",
     "output_type": "stream",
     "text": [
      "1\n",
      "2\n",
      "3\n",
      "4\n",
      "5\n",
      "6\n",
      "7\n",
      "8\n",
      "9\n",
      "10\n"
     ]
    }
   ],
   "source": [
    "# For Loop\n",
    "for i in range(10):\n",
    "    print(i+1)"
   ]
  },
  {
   "cell_type": "code",
   "execution_count": 11,
   "id": "c6003a62",
   "metadata": {},
   "outputs": [
    {
     "name": "stdout",
     "output_type": "stream",
     "text": [
      "1\n",
      "2\n",
      "3\n",
      "4\n",
      "5\n",
      "6\n",
      "7\n",
      "8\n",
      "9\n",
      "10\n"
     ]
    }
   ],
   "source": [
    "# While Loop\n",
    "i =1\n",
    "while i <= 10:\n",
    "    print(i)\n",
    "    i = i+1"
   ]
  },
  {
   "cell_type": "raw",
   "id": "de87736e",
   "metadata": {},
   "source": [
    "13. If you had a function named bacon() inside a module named spam, how would you call it after importing spam?\n",
    "Ans : spam.bacon()"
   ]
  }
 ],
 "metadata": {
  "kernelspec": {
   "display_name": "Python 3",
   "language": "python",
   "name": "python3"
  },
  "language_info": {
   "codemirror_mode": {
    "name": "ipython",
    "version": 3
   },
   "file_extension": ".py",
   "mimetype": "text/x-python",
   "name": "python",
   "nbconvert_exporter": "python",
   "pygments_lexer": "ipython3",
   "version": "3.8.8"
  }
 },
 "nbformat": 4,
 "nbformat_minor": 5
}
