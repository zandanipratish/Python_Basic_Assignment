{
 "cells": [
  {
   "cell_type": "markdown",
   "id": "557529a2",
   "metadata": {},
   "source": [
    "1. Write a Python program to print \"Hello Python\"?"
   ]
  },
  {
   "cell_type": "code",
   "execution_count": 4,
   "id": "393f2e41",
   "metadata": {},
   "outputs": [
    {
     "name": "stdout",
     "output_type": "stream",
     "text": [
      "Hello Python\n"
     ]
    }
   ],
   "source": [
    "print(\"Hello Python\")"
   ]
  },
  {
   "cell_type": "code",
   "execution_count": null,
   "id": "8d2abe1a",
   "metadata": {},
   "outputs": [],
   "source": []
  },
  {
   "cell_type": "markdown",
   "id": "056636b1",
   "metadata": {},
   "source": [
    "2. Write a Python program to do arithmetical operations addition and division.?"
   ]
  },
  {
   "cell_type": "code",
   "execution_count": 2,
   "id": "93b2b9f2",
   "metadata": {},
   "outputs": [
    {
     "name": "stdout",
     "output_type": "stream",
     "text": [
      "Addition is  30\n",
      "Division is  2.0\n"
     ]
    }
   ],
   "source": [
    "a = 20\n",
    "b = 10\n",
    "\n",
    "add = a+b\n",
    "div = a/b\n",
    "\n",
    "print(\"Addition is \", add)\n",
    "print(\"Division is \", div)"
   ]
  },
  {
   "cell_type": "code",
   "execution_count": null,
   "id": "d3ae4e78",
   "metadata": {},
   "outputs": [],
   "source": []
  },
  {
   "cell_type": "markdown",
   "id": "b1f48e38",
   "metadata": {},
   "source": [
    "3. Write a Python program to find the area of a triangle?"
   ]
  },
  {
   "cell_type": "code",
   "execution_count": 3,
   "id": "00a57375",
   "metadata": {},
   "outputs": [
    {
     "name": "stdout",
     "output_type": "stream",
     "text": [
      "Please enter height of a triangle: 12\n",
      "Please enter base of a triangle: 10\n",
      "Area of the triangle is :  60.0\n"
     ]
    }
   ],
   "source": [
    "height = float(input(\"Please enter height of a triangle: \"))\n",
    "base = float(input(\"Please enter base of a triangle: \"))\n",
    "\n",
    "area = 0.5*base*height\n",
    "print(\"Area of the triangle is : \",area)"
   ]
  },
  {
   "cell_type": "code",
   "execution_count": null,
   "id": "14fe01da",
   "metadata": {},
   "outputs": [],
   "source": []
  },
  {
   "cell_type": "markdown",
   "id": "f500abf6",
   "metadata": {},
   "source": [
    "4. Write a Python program to swap two variables?"
   ]
  },
  {
   "cell_type": "code",
   "execution_count": 7,
   "id": "57b7cf72",
   "metadata": {},
   "outputs": [
    {
     "name": "stdout",
     "output_type": "stream",
     "text": [
      "Values of variables before swapping is 45 & 96\n",
      "Values of variables after swapping is 96 & 45\n"
     ]
    }
   ],
   "source": [
    "x = 45\n",
    "y = 96\n",
    "\n",
    "print(\"Values of variables before swapping is {} & {}\".format(x,y))\n",
    "\n",
    "x,y = y,x\n",
    "\n",
    "print(\"Values of variables after swapping is {} & {}\".format(x,y))"
   ]
  },
  {
   "cell_type": "code",
   "execution_count": null,
   "id": "c77e7966",
   "metadata": {},
   "outputs": [],
   "source": []
  },
  {
   "cell_type": "markdown",
   "id": "bfe326c0",
   "metadata": {},
   "source": [
    "5. Write a Python program to generate a random number?"
   ]
  },
  {
   "cell_type": "code",
   "execution_count": 11,
   "id": "60ee8c86",
   "metadata": {},
   "outputs": [
    {
     "name": "stdout",
     "output_type": "stream",
     "text": [
      "0.39142996085034\n"
     ]
    }
   ],
   "source": [
    "import random as rn\n",
    "n = rn.random()\n",
    "print(n)"
   ]
  },
  {
   "cell_type": "code",
   "execution_count": null,
   "id": "4b999fbb",
   "metadata": {},
   "outputs": [],
   "source": []
  }
 ],
 "metadata": {
  "kernelspec": {
   "display_name": "Python 3",
   "language": "python",
   "name": "python3"
  },
  "language_info": {
   "codemirror_mode": {
    "name": "ipython",
    "version": 3
   },
   "file_extension": ".py",
   "mimetype": "text/x-python",
   "name": "python",
   "nbconvert_exporter": "python",
   "pygments_lexer": "ipython3",
   "version": "3.8.8"
  }
 },
 "nbformat": 4,
 "nbformat_minor": 5
}
