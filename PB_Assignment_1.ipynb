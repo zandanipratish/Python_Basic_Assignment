{
 "cells": [
  {
   "cell_type": "raw",
   "id": "2238d50a",
   "metadata": {},
   "source": [
    "1. In the below elements which of them are values or an expression? eg:- values can be integer or string and expressions will be mathematical operators.\n",
    "* \n",
    "'hello'\n",
    "-87.8\n",
    "- \n",
    "/ \n",
    "+\n",
    "6 \n",
    "\n",
    "Ans : \n",
    "    Values :- 'hello', -87.8, 6\n",
    "    expressions :- * , - , / , + \n"
   ]
  },
  {
   "cell_type": "raw",
   "id": "5fa60377",
   "metadata": {},
   "source": [
    "2. What is the difference between string and variable?\n",
    "Ans: String is a data type which can hold one or more alphabets, alphnumerics or some special characters within single or double quotes. Whereas a variable is memory location which hold values of different data types like int, float, String , Boolean etc."
   ]
  },
  {
   "cell_type": "raw",
   "id": "c169b9b1",
   "metadata": {},
   "source": [
    "3. Describe three different data types.\n",
    "Ans :\n",
    "INTEGER : Positive or Negative whole numbers\n",
    "FLOAT : Real Numbers with decimal point\n",
    "COMPLEX NUMBER : Combination of real and imaginary parts\n",
    "STRING : Collection of one or mor characters within single or double quotes\n",
    "BOOLEAN : True or False"
   ]
  },
  {
   "cell_type": "raw",
   "id": "a1da268b",
   "metadata": {},
   "source": [
    "4. What is an expression made up of? What do all expressions do?\n",
    "Ans : An expression is madeup operands and operators used to produce some values."
   ]
  },
  {
   "cell_type": "raw",
   "id": "1c568b54",
   "metadata": {},
   "source": [
    "5. This assignment statements, like spam = 10. What is the difference between an expression and a statement?\n",
    "Ans : An expression is a combination of values, variables and operators which needs to be evaluated. Whereas a statment is an instruction that Python interpreter executes for e.g. While, For, If Else"
   ]
  },
  {
   "cell_type": "raw",
   "id": "54cf589a",
   "metadata": {},
   "source": [
    "6. After running the following code, what does the variable bacon contain?\n",
    "bacon = 22\n",
    "bacon + 1\n",
    "Ans : 22"
   ]
  },
  {
   "cell_type": "code",
   "execution_count": 1,
   "id": "9758e072",
   "metadata": {},
   "outputs": [
    {
     "name": "stdout",
     "output_type": "stream",
     "text": [
      "22\n"
     ]
    }
   ],
   "source": [
    "bacon = 22\n",
    "bacon + 1\n",
    "print(bacon)"
   ]
  },
  {
   "cell_type": "raw",
   "id": "1efe8a5c",
   "metadata": {},
   "source": [
    "7. What should the values of the following two terms be?\n",
    "'spam' + 'spamspam'\n",
    "'spam' * 3\n",
    "Ans : Both will give spamspamspam"
   ]
  },
  {
   "cell_type": "code",
   "execution_count": 3,
   "id": "e633a691",
   "metadata": {},
   "outputs": [
    {
     "name": "stdout",
     "output_type": "stream",
     "text": [
      "spamspamspam\n",
      "spamspamspam\n"
     ]
    }
   ],
   "source": [
    "print('spam' + 'spamspam')\n",
    "print ('spam' * 3)"
   ]
  },
  {
   "cell_type": "raw",
   "id": "ba52f3e8",
   "metadata": {},
   "source": [
    "8. Why is eggs a valid variable name while 100 is invalid?\n",
    "Ans : Variable name in Python should start with letters(a-z/A-Z) or underscore (_). It can contain numbers but not at the begining."
   ]
  },
  {
   "cell_type": "raw",
   "id": "1caf3c4b",
   "metadata": {},
   "source": [
    "9. What three functions can be used to get the integer, floating-point number, or string version of a value?\n",
    "Ans : int() used to get integer value\n",
    "float() used to get floating-point number\n",
    "str() used to get string value"
   ]
  },
  {
   "cell_type": "code",
   "execution_count": 9,
   "id": "bafb3e47",
   "metadata": {},
   "outputs": [
    {
     "data": {
      "text/plain": [
       "9"
      ]
     },
     "execution_count": 9,
     "metadata": {},
     "output_type": "execute_result"
    }
   ],
   "source": [
    "int('9')"
   ]
  },
  {
   "cell_type": "code",
   "execution_count": 10,
   "id": "3797d18b",
   "metadata": {},
   "outputs": [
    {
     "data": {
      "text/plain": [
       "9.0"
      ]
     },
     "execution_count": 10,
     "metadata": {},
     "output_type": "execute_result"
    }
   ],
   "source": [
    "float(9)"
   ]
  },
  {
   "cell_type": "code",
   "execution_count": 11,
   "id": "8eda0f58",
   "metadata": {},
   "outputs": [
    {
     "data": {
      "text/plain": [
       "'9'"
      ]
     },
     "execution_count": 11,
     "metadata": {},
     "output_type": "execute_result"
    }
   ],
   "source": [
    "str(9)"
   ]
  },
  {
   "cell_type": "raw",
   "id": "28a88cb0",
   "metadata": {},
   "source": [
    "10. Why does this expression cause an error? How can you fix it?\n",
    "'I have eaten ' + 99 + ' burritos.'\n",
    "Ans : Because string can not be concatenate with other datatype. TO fix this convert 99 to string."
   ]
  },
  {
   "cell_type": "code",
   "execution_count": 12,
   "id": "cbaf8c87",
   "metadata": {},
   "outputs": [
    {
     "ename": "TypeError",
     "evalue": "can only concatenate str (not \"int\") to str",
     "output_type": "error",
     "traceback": [
      "\u001b[1;31m---------------------------------------------------------------------------\u001b[0m",
      "\u001b[1;31mTypeError\u001b[0m                                 Traceback (most recent call last)",
      "\u001b[1;32m<ipython-input-12-d24137131a5c>\u001b[0m in \u001b[0;36m<module>\u001b[1;34m\u001b[0m\n\u001b[1;32m----> 1\u001b[1;33m \u001b[1;34m'I have eaten '\u001b[0m \u001b[1;33m+\u001b[0m \u001b[1;36m99\u001b[0m \u001b[1;33m+\u001b[0m \u001b[1;34m' burritos.'\u001b[0m\u001b[1;33m\u001b[0m\u001b[1;33m\u001b[0m\u001b[0m\n\u001b[0m",
      "\u001b[1;31mTypeError\u001b[0m: can only concatenate str (not \"int\") to str"
     ]
    }
   ],
   "source": [
    "'I have eaten ' + 99 + ' burritos.'"
   ]
  },
  {
   "cell_type": "code",
   "execution_count": 13,
   "id": "22b57251",
   "metadata": {},
   "outputs": [
    {
     "data": {
      "text/plain": [
       "'I have eaten 99 burritos.'"
      ]
     },
     "execution_count": 13,
     "metadata": {},
     "output_type": "execute_result"
    }
   ],
   "source": [
    "'I have eaten ' + str(99) + ' burritos.'"
   ]
  },
  {
   "cell_type": "code",
   "execution_count": null,
   "id": "de32a8b4",
   "metadata": {},
   "outputs": [],
   "source": []
  }
 ],
 "metadata": {
  "kernelspec": {
   "display_name": "Python 3",
   "language": "python",
   "name": "python3"
  },
  "language_info": {
   "codemirror_mode": {
    "name": "ipython",
    "version": 3
   },
   "file_extension": ".py",
   "mimetype": "text/x-python",
   "name": "python",
   "nbconvert_exporter": "python",
   "pygments_lexer": "ipython3",
   "version": "3.8.8"
  }
 },
 "nbformat": 4,
 "nbformat_minor": 5
}
